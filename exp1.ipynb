{
 "cells": [
  {
   "cell_type": "markdown",
   "metadata": {},
   "source": [
    "# Recomender system example with Collaborative Filtering\n",
    "This example demonstrates the use of collaborative filtering for the implementation of a movie recomender system"
   ]
  },
  {
   "cell_type": "markdown",
   "metadata": {},
   "source": [
    "### Libraries importation"
   ]
  },
  {
   "cell_type": "code",
   "execution_count": 2,
   "metadata": {},
   "outputs": [],
   "source": [
    "import numpy as np\n",
    "import pandas as pd\n",
    "import cf # module implemeted at repository: https://github.com/daniel-lima-lopez/Collaborative-Filtering-in-Recomender-System\n",
    "from sklearn.model_selection import train_test_split"
   ]
  },
  {
   "cell_type": "markdown",
   "metadata": {},
   "source": [
    "### Auxiliary code"
   ]
  },
  {
   "cell_type": "code",
   "execution_count": 3,
   "metadata": {},
   "outputs": [],
   "source": [
    "# construct a user-rating matrix\n",
    "def get_Matrix(data, u_ids, m_ids):\n",
    "    M = np.zeros(shape=(len(u_ids), len(m_ids)), dtype=np.float32)\n",
    "    for ui in u_ids:\n",
    "        auxm = data[data['userId']==ui]['movieId'] # movies rated by user ui\n",
    "        auxm = np.array(auxm)\n",
    "        auxr = data[data['userId']==ui]['rating'] # rating of movies\n",
    "        auxr = np.array(auxr)\n",
    "\n",
    "        auxui = np.where(u_ids==ui)[0][0] # corresponding user index\n",
    "        for i in range(len(auxm)):\n",
    "            auxmi = np.where(m_ids==auxm[i])[0][0] # corresponding movie index\n",
    "            M[auxui, auxmi] = auxr[i]\n",
    "    return M\n",
    "\n",
    "# return the Movie names given a list of indices\n",
    "def get_movies(inds, m_ids):\n",
    "    movies_data = pd.read_csv('ml-latest-small/movies.csv')\n",
    "    aux_ids = m_ids[inds]\n",
    "    outs = []\n",
    "    for id in aux_ids:\n",
    "        outs.append(movies_data['title'].values[movies_data['movieId']==id][0])\n",
    "    return outs"
   ]
  },
  {
   "cell_type": "markdown",
   "metadata": {},
   "source": [
    "## Data importation\n",
    "The dataset used in this example, provided by GroupLens Research, can be found at [ml-latest-small](https://grouplens.org/datasets/movielens/)\n",
    "\n",
    "The dataset contains 100,000 registers of movie ratings of more than 600 users:"
   ]
  },
  {
   "cell_type": "code",
   "execution_count": 5,
   "metadata": {},
   "outputs": [
    {
     "data": {
      "text/html": [
       "<div>\n",
       "<style scoped>\n",
       "    .dataframe tbody tr th:only-of-type {\n",
       "        vertical-align: middle;\n",
       "    }\n",
       "\n",
       "    .dataframe tbody tr th {\n",
       "        vertical-align: top;\n",
       "    }\n",
       "\n",
       "    .dataframe thead th {\n",
       "        text-align: right;\n",
       "    }\n",
       "</style>\n",
       "<table border=\"1\" class=\"dataframe\">\n",
       "  <thead>\n",
       "    <tr style=\"text-align: right;\">\n",
       "      <th></th>\n",
       "      <th>userId</th>\n",
       "      <th>movieId</th>\n",
       "      <th>rating</th>\n",
       "      <th>timestamp</th>\n",
       "    </tr>\n",
       "  </thead>\n",
       "  <tbody>\n",
       "    <tr>\n",
       "      <th>0</th>\n",
       "      <td>1</td>\n",
       "      <td>1</td>\n",
       "      <td>4.0</td>\n",
       "      <td>964982703</td>\n",
       "    </tr>\n",
       "    <tr>\n",
       "      <th>1</th>\n",
       "      <td>1</td>\n",
       "      <td>3</td>\n",
       "      <td>4.0</td>\n",
       "      <td>964981247</td>\n",
       "    </tr>\n",
       "    <tr>\n",
       "      <th>2</th>\n",
       "      <td>1</td>\n",
       "      <td>6</td>\n",
       "      <td>4.0</td>\n",
       "      <td>964982224</td>\n",
       "    </tr>\n",
       "    <tr>\n",
       "      <th>3</th>\n",
       "      <td>1</td>\n",
       "      <td>47</td>\n",
       "      <td>5.0</td>\n",
       "      <td>964983815</td>\n",
       "    </tr>\n",
       "    <tr>\n",
       "      <th>4</th>\n",
       "      <td>1</td>\n",
       "      <td>50</td>\n",
       "      <td>5.0</td>\n",
       "      <td>964982931</td>\n",
       "    </tr>\n",
       "    <tr>\n",
       "      <th>5</th>\n",
       "      <td>1</td>\n",
       "      <td>70</td>\n",
       "      <td>3.0</td>\n",
       "      <td>964982400</td>\n",
       "    </tr>\n",
       "  </tbody>\n",
       "</table>\n",
       "</div>"
      ],
      "text/plain": [
       "   userId  movieId  rating  timestamp\n",
       "0       1        1     4.0  964982703\n",
       "1       1        3     4.0  964981247\n",
       "2       1        6     4.0  964982224\n",
       "3       1       47     5.0  964983815\n",
       "4       1       50     5.0  964982931\n",
       "5       1       70     3.0  964982400"
      ]
     },
     "execution_count": 5,
     "metadata": {},
     "output_type": "execute_result"
    }
   ],
   "source": [
    "path = 'ml-latest-small'\n",
    "data = pd.read_csv(f'{path}/ratings.csv')\n",
    "data.head(6)"
   ]
  },
  {
   "cell_type": "markdown",
   "metadata": {},
   "source": [
    "Calculate the user-rating matrix needed for the Collaborative Filtering technique:"
   ]
  },
  {
   "cell_type": "code",
   "execution_count": 6,
   "metadata": {},
   "outputs": [
    {
     "data": {
      "text/plain": [
       "(array([[4. , 0. , 4. , ..., 0. , 0. , 0. ],\n",
       "        [0. , 0. , 0. , ..., 0. , 0. , 0. ],\n",
       "        [0. , 0. , 0. , ..., 0. , 0. , 0. ],\n",
       "        ...,\n",
       "        [2.5, 2. , 2. , ..., 0. , 0. , 0. ],\n",
       "        [3. , 0. , 0. , ..., 0. , 0. , 0. ],\n",
       "        [5. , 0. , 0. , ..., 0. , 0. , 0. ]], dtype=float32),\n",
       " (610, 9724))"
      ]
     },
     "execution_count": 6,
     "metadata": {},
     "output_type": "execute_result"
    }
   ],
   "source": [
    "# save users and movie ids\n",
    "user_ids = np.unique(data['userId'])\n",
    "movie_ids = np.unique(data['movieId'])\n",
    "\n",
    "# user-rating matrix\n",
    "M_train = get_Matrix(data, user_ids, movie_ids)\n",
    "M_train, M_train.shape"
   ]
  },
  {
   "cell_type": "markdown",
   "metadata": {},
   "source": [
    "## Experimentation\n",
    "Instantiate the Collaborative Filtering algorithm. The `k` parameter indicates the number of nearest neighbors considered on each prediction to gather information of similar users.\n",
    "\n",
    "The `fit` method performs teh calculations needed for predictions."
   ]
  },
  {
   "cell_type": "code",
   "execution_count": 7,
   "metadata": {},
   "outputs": [],
   "source": [
    "test = cf.CollabFilt(k=10)\n",
    "test.fit(M_train)"
   ]
  },
  {
   "cell_type": "markdown",
   "metadata": {},
   "source": [
    "Once the calculations are done, we can perform predictions:"
   ]
  },
  {
   "cell_type": "code",
   "execution_count": 10,
   "metadata": {},
   "outputs": [
    {
     "name": "stdout",
     "output_type": "stream",
     "text": [
      "\n",
      "Top u13 movies:\n",
      " - Piano, The (1993)\n",
      " - Legends of the Fall (1994)\n",
      " - Broken Arrow (1996)\n",
      " - What's Eating Gilbert Grape (1993)\n",
      " - Seven (a.k.a. Se7en) (1995)\n",
      " - Braveheart (1995)\n",
      " - Nell (1994)\n",
      "Top u13 preds:\n",
      " - Duck Soup (1933)\n",
      " - Halloween (1978)\n",
      " - Groundhog Day (1993)\n",
      " - Sherlock Holmes (2009)\n",
      " - Step Brothers (2008)\n",
      " - Fugitive, The (1993)\n",
      " - The Amazing Screw-On Head (2006)\n",
      "\n",
      "Top u4 movies:\n",
      " - Heavenly Creatures (1994)\n",
      " - Pulp Fiction (1994)\n",
      " - Once Were Warriors (1994)\n",
      " - Schindler's List (1993)\n",
      " - In the Name of the Father (1993)\n",
      " - Snow White and the Seven Dwarfs (1937)\n",
      " - Pinocchio (1940)\n",
      "Top u4 preds:\n",
      " - North by Northwest (1959)\n",
      " - Brothers Bloom, The (2008)\n",
      " - Starship Troopers (1997)\n",
      " - Strangers on a Train (1951)\n",
      " - Day of the Doctor, The (2013)\n",
      " - Labyrinth (1986)\n",
      " - Island of Dr. Moreau, The (1996)\n",
      "\n",
      "Top u5 movies:\n",
      " - Dead Man Walking (1995)\n",
      " - Tommy Boy (1995)\n",
      " - Dolores Claiborne (1995)\n",
      " - Tombstone (1993)\n",
      " - Shawshank Redemption, The (1994)\n",
      " - Fugitive, The (1993)\n",
      " - Braveheart (1995)\n",
      "Top u5 preds:\n",
      " - My Life in Pink (Ma vie en rose) (1997)\n",
      " - Fallen (1998)\n",
      " - Zero Effect (1998)\n",
      " - Widow of St. Pierre, The (Veuve de Saint-Pierre, La) (2000)\n",
      " - Bulworth (1998)\n",
      " - With a Friend Like Harry... (Harry, un ami qui vous veut du bien) (2000)\n",
      " - Matrix Reloaded, The (2003)\n",
      "\n",
      "Top u65 movies:\n",
      " - Big Sleep, The (1946)\n",
      " - Braveheart (1995)\n",
      " - Dark City (1998)\n",
      " - This Is Spinal Tap (1984)\n",
      " - Shaun of the Dead (2004)\n",
      " - As Good as It Gets (1997)\n",
      " - Office Space (1999)\n",
      "Top u65 preds:\n",
      " - Fall, The (2006)\n",
      " - No Direction Home: Bob Dylan (2005)\n",
      " - Animals are Beautiful People (1974)\n",
      " - Ben-Hur (1959)\n",
      " - NeverEnding Story, The (1984)\n",
      " - Equilibrium (2002)\n",
      " - Aristocrats, The (2005)\n",
      "\n",
      "Top u232 movies:\n",
      " - Silence of the Lambs, The (1991)\n",
      " - Matrix, The (1999)\n",
      " - Requiem for a Dream (2000)\n",
      " - Shawshank Redemption, The (1994)\n",
      " - Eternal Sunshine of the Spotless Mind (2004)\n",
      " - Three Billboards Outside Ebbing, Missouri (2017)\n",
      " - Forrest Gump (1994)\n",
      "Top u232 preds:\n",
      " - Flickering Lights (Blinkende lygter) (2000)\n",
      " - Abominable Dr. Phibes, The (1971)\n",
      " - [REC] (2007)\n",
      " - Andalusian Dog, An (Chien andalou, Un) (1929)\n",
      " - Sideways (2004)\n",
      " - City of Angels (1998)\n",
      " - We Were Soldiers (2002)\n"
     ]
    }
   ],
   "source": [
    "users = [13,4,5,65,232] # user indexes\n",
    "topk = 7 # number of movies considered\n",
    "\n",
    "for ui in users:    \n",
    "    # top liked movies of ui\n",
    "    inds = np.argsort(M_train[ui])[-topk:]\n",
    "    top_ui = get_movies(inds, movie_ids)\n",
    "\n",
    "    # predictions for ui\n",
    "    pred_inds = test.predict(ui, topk)\n",
    "    pred_ui = get_movies(pred_inds, movie_ids)\n",
    "\n",
    "    print(f'\\nTop u{ui} movies:')\n",
    "    for i, mi in enumerate(top_ui):\n",
    "        print(f' - {mi}')\n",
    "\n",
    "    print(f'Top u{ui} preds:')\n",
    "    for i, mi in enumerate(pred_ui):\n",
    "        print(f' - {mi}')"
   ]
  }
 ],
 "metadata": {
  "kernelspec": {
   "display_name": "tf",
   "language": "python",
   "name": "python3"
  },
  "language_info": {
   "codemirror_mode": {
    "name": "ipython",
    "version": 3
   },
   "file_extension": ".py",
   "mimetype": "text/x-python",
   "name": "python",
   "nbconvert_exporter": "python",
   "pygments_lexer": "ipython3",
   "version": "3.9.18"
  }
 },
 "nbformat": 4,
 "nbformat_minor": 2
}
