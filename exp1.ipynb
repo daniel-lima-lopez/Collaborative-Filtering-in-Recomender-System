{
 "cells": [
  {
   "cell_type": "code",
   "execution_count": 6,
   "metadata": {},
   "outputs": [],
   "source": [
    "import numpy as np\n",
    "import pandas as pd\n",
    "import cf # module implemeted at repository: https://github.com/daniel-lima-lopez/Collaborative-Filtering-in-Recomender-System\n",
    "from sklearn.model_selection import KFold\n",
    "import matplotlib.pyplot as plt"
   ]
  },
  {
   "cell_type": "code",
   "execution_count": 2,
   "metadata": {},
   "outputs": [],
   "source": [
    "# construct a user-rating matrix\n",
    "def get_Matrix(data, u_ids, m_ids):\n",
    "    M = np.zeros(shape=(len(u_ids), len(m_ids)), dtype=np.float32)\n",
    "    for ui in u_ids:\n",
    "        auxm = data[data['userId']==ui]['movieId'] # movies rated by user ui\n",
    "        auxm = np.array(auxm)\n",
    "        auxr = data[data['userId']==ui]['rating'] # rating of movies\n",
    "        auxr = np.array(auxr)\n",
    "\n",
    "        auxui = np.where(u_ids==ui)[0][0] # corresponding user index\n",
    "        for i in range(len(auxm)):\n",
    "            auxmi = np.where(m_ids==auxm[i])[0][0] # corresponding movie index\n",
    "            M[auxui, auxmi] = auxr[i]\n",
    "    return M\n",
    "\n",
    "def get_mse(M_test, M_pred):\n",
    "    return np.mean(np.square(M_test-M_pred))"
   ]
  },
  {
   "cell_type": "code",
   "execution_count": 3,
   "metadata": {},
   "outputs": [],
   "source": [
    "path = 'ml-latest-small'\n",
    "data = pd.read_csv(f'{path}/ratings.csv')\n",
    "\n",
    "# save users and movie ids\n",
    "user_ids = np.unique(data['userId'])\n",
    "movie_ids = np.unique(data['movieId'])"
   ]
  },
  {
   "cell_type": "code",
   "execution_count": 5,
   "metadata": {},
   "outputs": [
    {
     "name": "stdout",
     "output_type": "stream",
     "text": [
      "---- K=3 ----\n",
      " - Fold 1: 0.42803263664245605\n",
      " - Fold 2: 0.40819576382637024\n",
      " - Fold 3: 0.4054047465324402\n",
      " - Fold 4: 0.4270917773246765\n",
      " - Fold 5: 0.4078384339809418\n",
      " - Mean: 0.41531267762184143\n",
      "---- K=5 ----\n",
      " - Fold 1: 0.6473603248596191\n",
      " - Fold 2: 0.6660019159317017\n",
      " - Fold 3: 0.6366471648216248\n",
      " - Fold 4: 0.6453900337219238\n",
      " - Fold 5: 0.6991510987281799\n",
      " - Mean: 0.6589100956916809\n",
      "---- K=7 ----\n",
      " - Fold 1: 0.8557385206222534\n",
      " - Fold 2: 0.8800792694091797\n",
      " - Fold 3: 0.8143712282180786\n",
      " - Fold 4: 0.8335736989974976\n",
      " - Fold 5: 0.9101455807685852\n",
      " - Mean: 0.8587816953659058\n",
      "---- K=9 ----\n",
      " - Fold 1: 1.064068078994751\n",
      " - Fold 2: 1.070827841758728\n",
      " - Fold 3: 0.9838963747024536\n",
      " - Fold 4: 1.0164984464645386\n",
      " - Fold 5: 1.087099552154541\n",
      " - Mean: 1.0444780588150024\n",
      "---- K=11 ----\n",
      " - Fold 1: 1.2414335012435913\n",
      " - Fold 2: 1.27118980884552\n",
      " - Fold 3: 1.1496686935424805\n",
      " - Fold 4: 1.186538815498352\n",
      " - Fold 5: 1.2607873678207397\n",
      " - Mean: 1.221923589706421\n"
     ]
    }
   ],
   "source": [
    "# 10-fold indices split\n",
    "kf = KFold(n_splits=5, shuffle=True, random_state=0)\n",
    "\n",
    "mse = []\n",
    "for ki in [3,5,7,9,11]:\n",
    "    print(f'---- K={ki} ----')\n",
    "    kmse = [] # mse on each experiment with ki value\n",
    "    for i, (train_index, test_index) in enumerate(kf.split(data)):\n",
    "        # data split\n",
    "        data_train = data.loc[train_index]\n",
    "        data_test = data.loc[test_index]\n",
    "\n",
    "        # user-rating matrix construction\n",
    "        M_train = get_Matrix(data_train, user_ids, movie_ids)\n",
    "        M_test = get_Matrix(data_test, user_ids, movie_ids)\n",
    "\n",
    "        # algorithm predictions\n",
    "        test = cf.CollabFilt(k=ki)\n",
    "        M_pred = test.fit(M_train)\n",
    "        aux_mse = get_mse(M_test, M_pred)\n",
    "        kmse.append(aux_mse)\n",
    "\n",
    "        # information\n",
    "        print(f\" - Fold {i+1}: {aux_mse}\")\n",
    "    mse.append(kmse)\n",
    "    print(f' - Mean: {np.mean(kmse)}')"
   ]
  },
  {
   "cell_type": "code",
   "execution_count": 7,
   "metadata": {},
   "outputs": [
    {
     "data": {
      "image/png": "[encoded data removed]",
      "text/plain": [
       "<Figure size 640x480 with 1 Axes>"
      ]
     },
     "metadata": {},
     "output_type": "display_data"
    }
   ],
   "source": [
    "fig, ax = plt.subplots()\n",
    "ax.set_ylabel('MSE')\n",
    "ax.boxplot(mse, tick_labels=['K=3', 'K=5', 'K=7', 'K=9', 'K=11'])\n",
    "fig.savefig(f'imgs/MSE_ks',bbox_inches =\"tight\",dpi=300)"
   ]
  }
 ],
 "metadata": {
  "kernelspec": {
   "display_name": "tfGPU",
   "language": "python",
   "name": "python3"
  },
  "language_info": {
   "codemirror_mode": {
    "name": "ipython",
    "version": 3
   },
   "file_extension": ".py",
   "mimetype": "text/x-python",
   "name": "python",
   "nbconvert_exporter": "python",
   "pygments_lexer": "ipython3",
   "version": "3.9.19"
  }
 },
 "nbformat": 4,
 "nbformat_minor": 2
}
