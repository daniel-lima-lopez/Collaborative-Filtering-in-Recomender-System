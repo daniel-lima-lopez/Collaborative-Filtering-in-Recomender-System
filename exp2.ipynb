{
 "cells": [
  {
   "cell_type": "markdown",
   "metadata": {},
   "source": [
    "# Recomender system example with Collaborative Filtering\n",
    "This example demonstrates the use of collaborative filtering for the implementation of a movie recomender system"
   ]
  },
  {
   "cell_type": "markdown",
   "metadata": {},
   "source": [
    "### Libraries importation"
   ]
  },
  {
   "cell_type": "code",
   "execution_count": 1,
   "metadata": {},
   "outputs": [],
   "source": [
    "import numpy as np\n",
    "import pandas as pd\n",
    "import cf # module implemeted at repository: https://github.com/daniel-lima-lopez/Collaborative-Filtering-in-Recomender-System\n",
    "from sklearn.model_selection import train_test_split"
   ]
  },
  {
   "cell_type": "markdown",
   "metadata": {},
   "source": [
    "### Auxiliary code"
   ]
  },
  {
   "cell_type": "code",
   "execution_count": 2,
   "metadata": {},
   "outputs": [],
   "source": [
    "# construct a user-rating matrix\n",
    "def get_Matrix(data, u_ids, m_ids):\n",
    "    M = np.zeros(shape=(len(u_ids), len(m_ids)), dtype=np.float32)\n",
    "    for ui in u_ids:\n",
    "        auxm = data[data['userId']==ui]['movieId'] # movies rated by user ui\n",
    "        auxm = np.array(auxm)\n",
    "        auxr = data[data['userId']==ui]['rating'] # rating of movies\n",
    "        auxr = np.array(auxr)\n",
    "\n",
    "        auxui = np.where(u_ids==ui)[0][0] # corresponding user index\n",
    "        for i in range(len(auxm)):\n",
    "            auxmi = np.where(m_ids==auxm[i])[0][0] # corresponding movie index\n",
    "            M[auxui, auxmi] = auxr[i]\n",
    "    return M\n",
    "\n",
    "# return the Movie names given a list of indices\n",
    "def get_movies(inds, m_ids):\n",
    "    movies_data = pd.read_csv('ml-latest-small/movies.csv')\n",
    "    aux_ids = m_ids[inds]\n",
    "    outs = []\n",
    "    for id in aux_ids:\n",
    "        outs.append(movies_data['title'].values[movies_data['movieId']==id][0])\n",
    "    return outs"
   ]
  },
  {
   "cell_type": "markdown",
   "metadata": {},
   "source": [
    "## Data importation\n",
    "The dataset used in this example, provided by GroupLens Research, can be found at [ml-latest-small](https://grouplens.org/datasets/movielens/)\n",
    "\n",
    "The dataset contains 100,000 registers of movie ratings of more than 600 users:"
   ]
  },
  {
   "cell_type": "code",
   "execution_count": 3,
   "metadata": {},
   "outputs": [
    {
     "data": {
      "text/html": [
       "<div>\n",
       "<style scoped>\n",
       "    .dataframe tbody tr th:only-of-type {\n",
       "        vertical-align: middle;\n",
       "    }\n",
       "\n",
       "    .dataframe tbody tr th {\n",
       "        vertical-align: top;\n",
       "    }\n",
       "\n",
       "    .dataframe thead th {\n",
       "        text-align: right;\n",
       "    }\n",
       "</style>\n",
       "<table border=\"1\" class=\"dataframe\">\n",
       "  <thead>\n",
       "    <tr style=\"text-align: right;\">\n",
       "      <th></th>\n",
       "      <th>userId</th>\n",
       "      <th>movieId</th>\n",
       "      <th>rating</th>\n",
       "      <th>timestamp</th>\n",
       "    </tr>\n",
       "  </thead>\n",
       "  <tbody>\n",
       "    <tr>\n",
       "      <th>0</th>\n",
       "      <td>1</td>\n",
       "      <td>1</td>\n",
       "      <td>4.0</td>\n",
       "      <td>964982703</td>\n",
       "    </tr>\n",
       "    <tr>\n",
       "      <th>1</th>\n",
       "      <td>1</td>\n",
       "      <td>3</td>\n",
       "      <td>4.0</td>\n",
       "      <td>964981247</td>\n",
       "    </tr>\n",
       "    <tr>\n",
       "      <th>2</th>\n",
       "      <td>1</td>\n",
       "      <td>6</td>\n",
       "      <td>4.0</td>\n",
       "      <td>964982224</td>\n",
       "    </tr>\n",
       "    <tr>\n",
       "      <th>3</th>\n",
       "      <td>1</td>\n",
       "      <td>47</td>\n",
       "      <td>5.0</td>\n",
       "      <td>964983815</td>\n",
       "    </tr>\n",
       "    <tr>\n",
       "      <th>4</th>\n",
       "      <td>1</td>\n",
       "      <td>50</td>\n",
       "      <td>5.0</td>\n",
       "      <td>964982931</td>\n",
       "    </tr>\n",
       "    <tr>\n",
       "      <th>5</th>\n",
       "      <td>1</td>\n",
       "      <td>70</td>\n",
       "      <td>3.0</td>\n",
       "      <td>964982400</td>\n",
       "    </tr>\n",
       "  </tbody>\n",
       "</table>\n",
       "</div>"
      ],
      "text/plain": [
       "   userId  movieId  rating  timestamp\n",
       "0       1        1     4.0  964982703\n",
       "1       1        3     4.0  964981247\n",
       "2       1        6     4.0  964982224\n",
       "3       1       47     5.0  964983815\n",
       "4       1       50     5.0  964982931\n",
       "5       1       70     3.0  964982400"
      ]
     },
     "execution_count": 3,
     "metadata": {},
     "output_type": "execute_result"
    }
   ],
   "source": [
    "path = 'ml-latest-small'\n",
    "data = pd.read_csv(f'{path}/ratings.csv')\n",
    "data.head(6)"
   ]
  },
  {
   "cell_type": "markdown",
   "metadata": {},
   "source": [
    "Calculate the user-rating matrix needed for the Collaborative Filtering technique:"
   ]
  },
  {
   "cell_type": "code",
   "execution_count": 4,
   "metadata": {},
   "outputs": [
    {
     "data": {
      "text/plain": [
       "(array([[4. , 0. , 4. , ..., 0. , 0. , 0. ],\n",
       "        [0. , 0. , 0. , ..., 0. , 0. , 0. ],\n",
       "        [0. , 0. , 0. , ..., 0. , 0. , 0. ],\n",
       "        ...,\n",
       "        [2.5, 2. , 2. , ..., 0. , 0. , 0. ],\n",
       "        [3. , 0. , 0. , ..., 0. , 0. , 0. ],\n",
       "        [5. , 0. , 0. , ..., 0. , 0. , 0. ]], dtype=float32),\n",
       " (610, 9724))"
      ]
     },
     "execution_count": 4,
     "metadata": {},
     "output_type": "execute_result"
    }
   ],
   "source": [
    "# save users and movie ids\n",
    "user_ids = np.unique(data['userId'])\n",
    "movie_ids = np.unique(data['movieId'])\n",
    "\n",
    "# user-rating matrix\n",
    "M_train = get_Matrix(data, user_ids, movie_ids)\n",
    "M_train, M_train.shape"
   ]
  },
  {
   "cell_type": "markdown",
   "metadata": {},
   "source": [
    "## Experimentation\n",
    "Instantiate the Collaborative Filtering algorithm. The `k` parameter indicates the number of nearest neighbors considered on each prediction to gather information of similar users.\n",
    "\n",
    "The `fit` method performs teh calculations needed for predictions."
   ]
  },
  {
   "cell_type": "code",
   "execution_count": 5,
   "metadata": {},
   "outputs": [
    {
     "data": {
      "text/plain": [
       "array([[0.  , 0.  , 0.  , ..., 0.  , 0.  , 0.  ],\n",
       "       [4.25, 0.  , 4.  , ..., 0.  , 0.  , 0.  ],\n",
       "       [0.  , 0.  , 0.  , ..., 0.  , 0.  , 0.  ],\n",
       "       ...,\n",
       "       [0.  , 0.  , 0.  , ..., 0.  , 0.  , 0.  ],\n",
       "       [0.  , 2.  , 2.  , ..., 0.  , 0.  , 0.  ],\n",
       "       [0.  , 0.  , 0.  , ..., 0.  , 0.  , 0.  ]], dtype=float32)"
      ]
     },
     "execution_count": 5,
     "metadata": {},
     "output_type": "execute_result"
    }
   ],
   "source": [
    "test = cf.CollabFilt(k=3)\n",
    "test.fit(M_train)"
   ]
  },
  {
   "cell_type": "markdown",
   "metadata": {},
   "source": [
    "Once the calculations are done, we can perform predictions:"
   ]
  },
  {
   "cell_type": "code",
   "execution_count": 6,
   "metadata": {},
   "outputs": [
    {
     "name": "stdout",
     "output_type": "stream",
     "text": [
      "\n",
      "Top u1 movies:\n",
      " - Mad Max: Fury Road (2015)\n",
      " - Wolf of Wall Street, The (2013)\n",
      " - The Jinx: The Life and Deaths of Robert Durst (2015)\n",
      " - Step Brothers (2008)\n",
      " - Warrior (2011)\n",
      "Top u1 preds:\n",
      " - Citizen Kane (1941)\n",
      " - Lock, Stock & Two Smoking Barrels (1998)\n",
      " - Adventures of Robin Hood, The (1938)\n",
      " - Wolf Man, The (1941)\n",
      " - Go (1999)\n",
      "\n",
      "Top u4 movies:\n",
      " - Once Were Warriors (1994)\n",
      " - Schindler's List (1993)\n",
      " - In the Name of the Father (1993)\n",
      " - Snow White and the Seven Dwarfs (1937)\n",
      " - Pinocchio (1940)\n",
      "Top u4 preds:\n",
      " - Run Lola Run (Lola rennt) (1998)\n",
      " - Dr. Horrible's Sing-Along Blog (2008)\n",
      " - Crazy, Stupid, Love. (2011)\n",
      " - Avengers, The (2012)\n",
      " - Inception (2010)\n",
      "\n",
      "Top u5 movies:\n",
      " - Dolores Claiborne (1995)\n",
      " - Tombstone (1993)\n",
      " - Shawshank Redemption, The (1994)\n",
      " - Fugitive, The (1993)\n",
      " - Braveheart (1995)\n",
      "Top u5 preds:\n",
      " - Heavenly Creatures (1994)\n",
      " - Top Gun (1986)\n",
      " - Once Were Warriors (1994)\n",
      " - Sound of Music, The (1965)\n",
      " - Mask of Zorro, The (1998)\n",
      "\n",
      "Top u65 movies:\n",
      " - Dark City (1998)\n",
      " - This Is Spinal Tap (1984)\n",
      " - Shaun of the Dead (2004)\n",
      " - As Good as It Gets (1997)\n",
      " - Office Space (1999)\n",
      "Top u65 preds:\n",
      " - No Direction Home: Bob Dylan (2005)\n",
      " - Thousand Clowns, A (1965)\n",
      " - Scanner Darkly, A (2006)\n",
      " - Woman Is a Woman, A (femme est une femme, Une) (1961)\n",
      " - My Fair Lady (1964)\n",
      "\n",
      "Top u232 movies:\n",
      " - Requiem for a Dream (2000)\n",
      " - Shawshank Redemption, The (1994)\n",
      " - Eternal Sunshine of the Spotless Mind (2004)\n",
      " - Three Billboards Outside Ebbing, Missouri (2017)\n",
      " - Forrest Gump (1994)\n",
      "Top u232 preds:\n",
      " - Twelve Monkeys (a.k.a. 12 Monkeys) (1995)\n",
      " - From Dusk Till Dawn (1996)\n",
      " - Fistful of Dollars, A (Per un pugno di dollari) (1964)\n",
      " - Unleashed (Danny the Dog) (2005)\n",
      " - Blade Runner (1982)\n"
     ]
    }
   ],
   "source": [
    "users = [1,4,5,65,232] # user indexes\n",
    "topk = 5 # number of movies considered\n",
    "\n",
    "for ui in users:    \n",
    "    # top liked movies of ui\n",
    "    inds = np.argsort(M_train[ui])[-topk:]\n",
    "    top_ui = get_movies(inds, movie_ids)\n",
    "\n",
    "    # predictions for ui\n",
    "    pred_inds = test.predict(ui, topk)\n",
    "    pred_ui = get_movies(pred_inds, movie_ids)\n",
    "\n",
    "    print(f'\\nTop u{ui} movies:')\n",
    "    for i, mi in enumerate(top_ui):\n",
    "        print(f' - {mi}')\n",
    "\n",
    "    print(f'Top u{ui} preds:')\n",
    "    for i, mi in enumerate(pred_ui):\n",
    "        print(f' - {mi}')"
   ]
  }
 ],
 "metadata": {
  "kernelspec": {
   "display_name": "tf",
   "language": "python",
   "name": "python3"
  },
  "language_info": {
   "codemirror_mode": {
    "name": "ipython",
    "version": 3
   },
   "file_extension": ".py",
   "mimetype": "text/x-python",
   "name": "python",
   "nbconvert_exporter": "python",
   "pygments_lexer": "ipython3",
   "version": "3.9.19"
  }
 },
 "nbformat": 4,
 "nbformat_minor": 2
}
